{
 "cells": [
  {
   "cell_type": "markdown",
   "id": "aaf26f25-896f-4355-8b7c-d0a44481a020",
   "metadata": {},
   "source": [
    "# Data Science Tools and Ecosystem"
   ]
  },
  {
   "attachments": {},
   "cell_type": "markdown",
   "id": "c6200ab6-56dd-4314-8fa7-86cba3d2e3eb",
   "metadata": {},
   "source": [
    "In this notebook, Data Science Tools and Ecosystem are summarized."
   ]
  },
  {
   "cell_type": "markdown",
   "id": "42630ce3-9141-4df2-b755-6994471f71e4",
   "metadata": {},
   "source": [
    "## Objectives \n",
    "- Python\n",
    "- Java\n",
    "- R\n",
    "- C++\n",
    "- SQL"
   ]
  },
  {
   "cell_type": "markdown",
   "id": "5073b4f3-4805-40af-92ff-b5082625d5c4",
   "metadata": {},
   "source": [
    "Some of the popular languages that Data Scientists use are:\n",
    "1. Python\n",
    "2. R\n",
    "3. SQL\n",
    "4. Scala\n",
    "5. Julia\n",
    "Julia"
   ]
  },
  {
   "cell_type": "markdown",
   "id": "797b09ad-e543-4049-8bca-ab87bb82c940",
   "metadata": {},
   "source": [
    "Some of the commonly used libraries used by Data Scientists include:\r\n",
    "1. Numpy\n",
    "2. Pandas\n",
    "3. Scikit-Learn\n",
    "4. TensorFlow\n",
    "5. Matplotliblotlib"
   ]
  },
  {
   "cell_type": "markdown",
   "id": "c89685f4-0880-4afa-b4ad-6bd08cd5bc9b",
   "metadata": {},
   "source": [
    "|Data Science Tools|\n",
    ":-------:\n",
    "RStudio\n",
    "Apache Spark\n",
    "TensorFlow"
   ]
  },
  {
   "cell_type": "markdown",
   "id": "0513fba1-70cc-4f87-a4b5-b9df2329a3a2",
   "metadata": {},
   "source": [
    "### Below are a few examples of evaluating arithmetic expressions in Python"
   ]
  },
  {
   "cell_type": "code",
   "execution_count": 1,
   "id": "d8991f07-e95c-4c67-b1e0-37b7e7f3d94d",
   "metadata": {},
   "outputs": [
    {
     "data": {
      "text/plain": [
       "17"
      ]
     },
     "execution_count": 1,
     "metadata": {},
     "output_type": "execute_result"
    }
   ],
   "source": [
    "#This a simple arithmetic expression to mutiply then add integers\n",
    "(3*4)+5"
   ]
  },
  {
   "cell_type": "code",
   "execution_count": 2,
   "id": "18a4f21e-cd17-4687-a209-aa902bdac2fc",
   "metadata": {},
   "outputs": [
    {
     "data": {
      "text/plain": [
       "3.3333333333333335"
      ]
     },
     "execution_count": 2,
     "metadata": {},
     "output_type": "execute_result"
    }
   ],
   "source": [
    "#This will convert 200 minutes to hours by diving by 60\n",
    "(200/60)"
   ]
  },
  {
   "cell_type": "markdown",
   "id": "a4ca2b9c-ca6b-43ab-93e2-6c7d7e77834b",
   "metadata": {},
   "source": [
    "## Author\n",
    "Joshua Adewumi"
   ]
  }
 ],
 "metadata": {
  "kernelspec": {
   "display_name": "Python 3 (ipykernel)",
   "language": "python",
   "name": "python3"
  },
  "language_info": {
   "codemirror_mode": {
    "name": "ipython",
    "version": 3
   },
   "file_extension": ".py",
   "mimetype": "text/x-python",
   "name": "python",
   "nbconvert_exporter": "python",
   "pygments_lexer": "ipython3",
   "version": "3.11.9"
  }
 },
 "nbformat": 4,
 "nbformat_minor": 5
}
