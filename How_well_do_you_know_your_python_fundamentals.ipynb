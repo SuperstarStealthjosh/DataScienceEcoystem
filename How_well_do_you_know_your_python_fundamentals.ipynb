{
  "cells": [
    {
      "cell_type": "markdown",
      "metadata": {
        "id": "view-in-github",
        "colab_type": "text"
      },
      "source": [
        "<a href=\"https://colab.research.google.com/github/SuperstarStealthjosh/DataScienceEcoystem/blob/main/How_well_do_you_know_your_python_fundamentals.ipynb\" target=\"_parent\"><img src=\"https://colab.research.google.com/assets/colab-badge.svg\" alt=\"Open In Colab\"/></a>"
      ]
    },
    {
      "cell_type": "markdown",
      "id": "1ee5ac12-5aec-40ed-bd7e-ea45842b425a",
      "metadata": {
        "id": "1ee5ac12-5aec-40ed-bd7e-ea45842b425a"
      },
      "source": [
        "# Problem Solving Activities\n",
        "\n",
        "This will consist of four problem solving acivities, where you are expected to attempt all the tasks"
      ]
    },
    {
      "cell_type": "markdown",
      "id": "97592219-3eef-49da-8dc1-085faa5f8bca",
      "metadata": {
        "id": "97592219-3eef-49da-8dc1-085faa5f8bca"
      },
      "source": [
        "## 1. Quiz Game\n",
        "\n",
        "**Task**: **Create a quiz game made up of 5 questions. The user should be able to enter in answers and the final score calculated.**\n",
        "\n",
        "**Objective**: To create a Python-based quiz game that allows users to answer 5 questions interactively and calculates their final score based on correct answers.\n",
        "\n",
        "**Acceptance Criteria**:\n",
        "\n",
        "- The quiz contains exactly five questions.\n",
        "- Questions and answers are stored in an easily modifiable structure (e.g., a list of dictionaries).\n",
        "- The user can input their answers, and responses are case-insensitive.\n",
        "- Correct answers increase the score, and incorrect answers display the correct answer.\n",
        "- The final score is displayed at the end of the quiz."
      ]
    },
    {
      "cell_type": "code",
      "source": [
        "def game():\n",
        "    questions = [\n",
        "        {\"question\": \"What is the capital of France?\", \"answer\": \"paris\"},\n",
        "        {\"question\": \"What is 5 multiplied by 6?\", \"answer\": \"30\"},\n",
        "        {\"question\": \"Who wrote 'Macbeth'?\", \"answer\": \"shakespeare\"},\n",
        "        {\"question\": \"What planet is known as the Red Planet?\", \"answer\": \"mars\"},\n",
        "        {\"question\": \"What is the chemical symbol for water?\", \"answer\": \"h2o\"}\n",
        "    ]\n",
        "\n",
        "    score = 0\n",
        "\n",
        "    for q in questions:\n",
        "        user_answer = input(q[\"question\"] + \" \").strip().lower()\n",
        "        if user_answer == q[\"answer\"]:\n",
        "            print(\"Correct!\")\n",
        "            score += 1\n",
        "        else:\n",
        "            print(f\"Incorrect. The correct answer is: {q['answer'].title()}\")\n",
        "\n",
        "    print(f\"\\nYour final score is: {score}/{len(questions)}\")"
      ],
      "metadata": {
        "id": "gnB3sp_VGQLi"
      },
      "id": "gnB3sp_VGQLi",
      "execution_count": null,
      "outputs": []
    },
    {
      "cell_type": "code",
      "source": [
        "game()"
      ],
      "metadata": {
        "id": "jfCez50qGQn2"
      },
      "id": "jfCez50qGQn2",
      "execution_count": null,
      "outputs": []
    },
    {
      "cell_type": "markdown",
      "id": "79ed75a7-3b62-42c8-bb3d-cf31f523508f",
      "metadata": {
        "id": "79ed75a7-3b62-42c8-bb3d-cf31f523508f"
      },
      "source": [
        "## 2. Number Swapping\n",
        "\n",
        "**Task**: **Swapping two numbers in Python.**\n",
        "\n",
        "**Objective**: Create a Python program that swaps two numbers entered by the user and displays the values before and after swapping.\n",
        "\n",
        "**Acceptance Criteria**:\n",
        "- The program accepts two numbers as input from the user.\n",
        "- The numbers are displayed before and after swapping.\n",
        "- The program uses Python’s tuple unpacking for swapping.\n",
        "- Invalid input (non-numeric) is handled gracefully with an error message.\n",
        "- The program successfully swaps the values without requiring a temporary variable."
      ]
    },
    {
      "cell_type": "code",
      "source": [
        "def is_prime(n):\n",
        "    if n <= 1:\n",
        "        return False\n",
        "    for i in range(2, int(n**0.5)+1):\n",
        "        if n % i == 0:\n",
        "            return False\n",
        "    return True\n",
        "\n",
        "def is_armstrong(n):\n",
        "    digits = [int(d) for d in str(n)]\n",
        "    return sum(d ** len(digits) for d in digits) == n\n",
        "\n",
        "def is_palindrome(n):\n",
        "    return str(n) == str(n)[::-1]\n",
        "\n",
        "def number_identifier():\n",
        "    try:\n",
        "        num = int(input(\"Enter an integer: \"))\n",
        "        result = []\n",
        "        if is_prime(num):\n",
        "            result.append(\"Prime Number\")\n",
        "        if is_armstrong(num):\n",
        "            result.append(\"Armstrong Number\")\n",
        "        if is_palindrome(num):\n",
        "            result.append(\"Palindrome\")\n",
        "\n",
        "        if result:\n",
        "            print(f\"{num} is a:\", \", \".join(result))\n",
        "        else:\n",
        "            print(f\"{num} does not satisfy any special property.\")\n",
        "    except ValueError:\n",
        "        print(\"Error: Please enter a valid integer.\")"
      ],
      "metadata": {
        "id": "6DNb6Q28Fjq1"
      },
      "id": "6DNb6Q28Fjq1",
      "execution_count": null,
      "outputs": []
    },
    {
      "cell_type": "code",
      "source": [
        "def number_swapping():\n",
        "    try:\n",
        "        a = float(input(\"Enter the first number: \"))\n",
        "        b = float(input(\"Enter the second number: \"))\n",
        "\n",
        "        print(f\"\\nBefore Swapping: a = {a}, b = {b}\")\n",
        "        a, b = b, a\n",
        "        print(f\"After Swapping: a = {a}, b = {b}\")\n",
        "\n",
        "    except ValueError:\n",
        "        print(\"Invalid input. Please enter numeric values only.\")\n"
      ],
      "metadata": {
        "id": "hjxEX24tGEFl"
      },
      "id": "hjxEX24tGEFl",
      "execution_count": null,
      "outputs": []
    },
    {
      "cell_type": "code",
      "source": [
        "number_swapping()"
      ],
      "metadata": {
        "id": "j4V6pDpgGb_1"
      },
      "id": "j4V6pDpgGb_1",
      "execution_count": null,
      "outputs": []
    },
    {
      "cell_type": "markdown",
      "id": "0f8c8201-65a2-415c-8890-693cfe0bd412",
      "metadata": {
        "id": "0f8c8201-65a2-415c-8890-693cfe0bd412"
      },
      "source": [
        "## 3. Prime/Armstrong/Palindrome Number Identifier\n",
        "\n",
        "**Task**: **Write a code/logic to determine if the value entered is a Prime number, an Armstrong Number or a Palindrome number.**\n",
        "\n",
        "**Objective**: To create a Python program that checks whether a user-entered number is a Prime number, Armstrong number, or Palindrome, and displays the results accordingly.\n",
        "\n",
        "**Acceptance Criteria**:\n",
        "- The program accepts a single integer input from the user.\n",
        "- It checks and identifies if the number is a:\n",
        "    - Prime number: A number greater than 1 that is divisible only by 1 and itself.\n",
        "    - Armstrong number: A number equal to the sum of its digits raised to the power of the number of digits.\n",
        "    - Palindrome: A number that reads the same backward as forward.\n",
        "- The program displays appropriate messages for each property satisfied by the number.\n",
        "- If the number does not meet any criteria, a message is displayed stating so.\n",
        "- Non-integer input is handled gracefully with an error message."
      ]
    },
    {
      "cell_type": "code",
      "source": [
        "def is_prime(n):\n",
        "    if n <= 1:\n",
        "        return False\n",
        "    for i in range(2, int(n**0.5)+1):\n",
        "        if n % i == 0:\n",
        "            return False\n",
        "    return True\n",
        "\n",
        "def is_armstrong(n):\n",
        "    digits = [int(d) for d in str(n)]\n",
        "    return sum(d ** len(digits) for d in digits) == n\n",
        "\n",
        "def is_palindrome(n):\n",
        "    return str(n) == str(n)[::-1]\n",
        "\n",
        "def number_identifier():\n",
        "    try:\n",
        "        num = int(input(\"Enter an integer: \"))\n",
        "        result = []\n",
        "        if is_prime(num):\n",
        "            result.append(\"Prime Number\")\n",
        "        if is_armstrong(num):\n",
        "            result.append(\"Armstrong Number\")\n",
        "        if is_palindrome(num):\n",
        "            result.append(\"Palindrome\")\n",
        "\n",
        "        if result:\n",
        "            print(f\"{num} is a:\", \", \".join(result))\n",
        "        else:\n",
        "            print(f\"{num} does not satisfy any special property.\")\n",
        "    except ValueError:\n",
        "        print(\"Error: Please enter a valid integer.\")"
      ],
      "metadata": {
        "id": "Ey1DezXMHAar"
      },
      "id": "Ey1DezXMHAar",
      "execution_count": null,
      "outputs": []
    },
    {
      "cell_type": "code",
      "source": [
        "number_identifier()"
      ],
      "metadata": {
        "id": "4gqWWif1HAuo"
      },
      "id": "4gqWWif1HAuo",
      "execution_count": null,
      "outputs": []
    },
    {
      "cell_type": "markdown",
      "id": "d0eb118f-70e2-483c-ac16-9373fec0ae05",
      "metadata": {
        "id": "d0eb118f-70e2-483c-ac16-9373fec0ae05"
      },
      "source": [
        "## 4. The Fibonacci Sequence\n",
        "\n",
        "**Task**: **Generate the Fibonacci Sequence.**\n",
        "\n",
        "**Objective**: To create a Python program that generates the first n terms of the Fibonacci sequence based on user input.\n",
        "\n",
        "**Acceptance Criteria**:\n",
        "- The program accepts a positive integer input (n) from the user.\n",
        "- It generates and displays the first n terms of the Fibonacci sequence.\n",
        "- The Fibonacci sequence is calculated iteratively.\n",
        "- If the input is zero or negative, an appropriate error message is displayed.\n",
        "- Non-integer input is handled gracefully with an error message."
      ]
    },
    {
      "cell_type": "code",
      "source": [
        "def fibonacci_sequence():\n",
        "    try:\n",
        "        n = int(input(\"Enter number of terms: \"))\n",
        "        if n <= 0:\n",
        "            print(\"Error: Please enter a positive integer.\")\n",
        "            return\n",
        "\n",
        "        a, b = 0, 1\n",
        "        print(\"Fibonacci sequence:\")\n",
        "        for _ in range(n):\n",
        "            print(a, end=\" \")\n",
        "            a, b = b, a + b\n",
        "        print()\n",
        "    except ValueError:\n",
        "        print(\"Error: Please enter a valid integer.\")\n"
      ],
      "metadata": {
        "id": "tJNgTIsSHNKU"
      },
      "id": "tJNgTIsSHNKU",
      "execution_count": null,
      "outputs": []
    },
    {
      "cell_type": "code",
      "source": [
        "fibonacci_sequence()"
      ],
      "metadata": {
        "id": "OYfQ-UTnHNjg"
      },
      "id": "OYfQ-UTnHNjg",
      "execution_count": null,
      "outputs": []
    },
    {
      "cell_type": "code",
      "source": [],
      "metadata": {
        "id": "qM0NiyGKHYB4"
      },
      "id": "qM0NiyGKHYB4",
      "execution_count": null,
      "outputs": []
    }
  ],
  "metadata": {
    "kernelspec": {
      "display_name": "Python 3 (ipykernel)",
      "language": "python",
      "name": "python3"
    },
    "language_info": {
      "codemirror_mode": {
        "name": "ipython",
        "version": 3
      },
      "file_extension": ".py",
      "mimetype": "text/x-python",
      "name": "python",
      "nbconvert_exporter": "python",
      "pygments_lexer": "ipython3",
      "version": "3.12.7"
    },
    "colab": {
      "provenance": [],
      "include_colab_link": true
    }
  },
  "nbformat": 4,
  "nbformat_minor": 5
}